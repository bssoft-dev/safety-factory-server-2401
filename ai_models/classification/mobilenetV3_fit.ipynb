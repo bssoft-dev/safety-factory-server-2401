{
 "cells": [
  {
   "cell_type": "code",
   "execution_count": 2,
   "metadata": {},
   "outputs": [],
   "source": [
    "# conda env pytorchaudio\n",
    "\n",
    "import torch\n",
    "import torch.nn as nn\n",
    "import torch.optim as optim\n",
    "from torch.utils.data import Dataset, DataLoader\n",
    "from torchvision import transforms\n",
    "import numpy as np\n",
    "from sklearn.model_selection import train_test_split\n",
    "from tqdm import tqdm\n",
    "import os\n",
    "import librosa\n",
    "\n",
    "from mobilenetV3_mfcc import mobilenet_v3_mfcc\n",
    "\n",
    "\n",
    "# MFCC 데이터셋 클래스 정의\n",
    "class MFCCDataset(Dataset):\n",
    "    def __init__(self, mfcc_data, labels, transform=None):\n",
    "        self.mfcc_data = mfcc_data\n",
    "        self.labels = labels\n",
    "        self.transform = transform\n",
    "\n",
    "    def __len__(self):\n",
    "        return len(self.labels)\n",
    "\n",
    "    def __getitem__(self, idx):\n",
    "        mfcc = self.mfcc_data[idx]\n",
    "        # mfcc = np.expand_dims(mfcc, axis=0)\n",
    "        label = self.labels[idx]\n",
    "        if self.transform:\n",
    "            mfcc = self.transform(mfcc)\n",
    "        return mfcc, label\n",
    "\n",
    "# 데이터 증강을 위한 커스텀 변환\n",
    "class AddGaussianNoise(object):\n",
    "    def __init__(self, mean=0., std=1.):\n",
    "        self.std = std\n",
    "        self.mean = mean\n",
    "        \n",
    "    def __call__(self, tensor):\n",
    "        return tensor + torch.randn(tensor.size()) * self.std + self.mean\n",
    "\n",
    "# wav 파일을 MFCC로 변환하는 함수\n",
    "def wav_to_mfcc(file_path, n_mfcc=40, max_len=50): # 음원을 1.6(max_len=50)초로 자르고 mfcc 추출\n",
    "    y, sr = librosa.load(file_path, sr=16000)\n",
    "    mfcc = librosa.feature.mfcc(y=y, sr=sr, n_mfcc=n_mfcc)\n",
    "    \n",
    "    # MFCC의 길이를 max_len으로 맞추기\n",
    "    if mfcc.shape[1] < max_len:\n",
    "        mfcc = np.pad(mfcc, ((0, 0), (0, max_len - mfcc.shape[1])), mode='constant')\n",
    "    else:\n",
    "        mfcc = mfcc[:, :max_len]\n",
    "    \n",
    "    return mfcc\n",
    "\n",
    "# 데이터 로드 함수\n",
    "def load_data(data_dir, n_mfcc=40, max_len=50): # 음원을 1.25(max_len=50)초로 자르고, 40개의 mfcc를 추출\n",
    "    mfcc_data = []\n",
    "    labels = []\n",
    "    class_names = sorted(os.listdir(data_dir))  # 클래스 이름을 정렬하여 일관성 유지\n",
    "    \n",
    "    for label, class_name in enumerate(class_names):\n",
    "        class_dir = os.path.join(data_dir, class_name)\n",
    "        for file_name in tqdm(os.listdir(class_dir), desc=f\"Processing {class_name}\"):\n",
    "            if file_name.endswith('.wav'):\n",
    "                file_path = os.path.join(class_dir, file_name)\n",
    "                mfcc = wav_to_mfcc(file_path, n_mfcc, max_len)\n",
    "                mfcc_data.append(mfcc)\n",
    "                labels.append(label)\n",
    "    \n",
    "    return np.array(mfcc_data), np.array(labels), class_names"
   ]
  },
  {
   "cell_type": "code",
   "execution_count": 3,
   "metadata": {},
   "outputs": [],
   "source": [
    "# 훈련 함수\n",
    "def train_model(model, train_loader, val_loader, criterion, optimizer, num_epochs=10, device='cuda:1'):\n",
    "    model.to(device)\n",
    "    best_val_loss = float('inf')\n",
    "\n",
    "    for epoch in range(num_epochs):\n",
    "        model.train()\n",
    "        train_loss = 0.0\n",
    "        train_correct = 0\n",
    "        train_total = 0\n",
    "\n",
    "        for inputs, labels in tqdm(train_loader, desc=f'Epoch {epoch+1}/{num_epochs}'):\n",
    "            inputs, labels = inputs.to(device), labels.to(device)\n",
    "            optimizer.zero_grad()\n",
    "            outputs = model(inputs)\n",
    "            loss = criterion(outputs, labels)\n",
    "            loss.backward()\n",
    "            optimizer.step()\n",
    "\n",
    "            train_loss += loss.item() * inputs.size(0)\n",
    "            _, predicted = torch.max(outputs.data, 1)\n",
    "            train_total += labels.size(0)\n",
    "            train_correct += (predicted == labels).sum().item()\n",
    "\n",
    "        train_loss = train_loss / len(train_loader.dataset)\n",
    "        train_acc = train_correct / train_total\n",
    "\n",
    "        # 검증\n",
    "        model.eval()\n",
    "        val_loss = 0.0\n",
    "        val_correct = 0\n",
    "        val_total = 0\n",
    "\n",
    "        with torch.no_grad():\n",
    "            for inputs, labels in val_loader:\n",
    "                inputs, labels = inputs.to(device), labels.to(device)\n",
    "                outputs = model(inputs)\n",
    "                loss = criterion(outputs, labels)\n",
    "\n",
    "                val_loss += loss.item() * inputs.size(0)\n",
    "                _, predicted = torch.max(outputs.data, 1)\n",
    "                val_total += labels.size(0)\n",
    "                val_correct += (predicted == labels).sum().item()\n",
    "\n",
    "        val_loss = val_loss / len(val_loader.dataset)\n",
    "        val_acc = val_correct / val_total\n",
    "\n",
    "        print(f'Epoch {epoch+1}/{num_epochs}:')\n",
    "        print(f'Train Loss: {train_loss:.4f}, Train Acc: {train_acc:.4f}')\n",
    "        print(f'Val Loss: {val_loss:.4f}, Val Acc: {val_acc:.4f}')\n",
    "\n",
    "        # 최고의 모델 저장\n",
    "        if val_loss < best_val_loss:\n",
    "            best_val_loss = val_loss\n",
    "            torch.save(model.state_dict(), 'weights/test_mobilenetV3_mfcc_model.pth')\n",
    "\n",
    "    print('Training completed.')"
   ]
  },
  {
   "cell_type": "code",
   "execution_count": 4,
   "metadata": {},
   "outputs": [
    {
     "name": "stderr",
     "output_type": "stream",
     "text": [
      "Processing 경보음: 100%|██████████| 13/13 [00:01<00:00, 10.44it/s]\n",
      "Processing 비명: 100%|██████████| 30/30 [00:00<00:00, 63.00it/s]\n",
      "Processing 일반: 100%|██████████| 131/131 [00:04<00:00, 29.53it/s]\n",
      "Processing 충격깨짐소리: 100%|██████████| 39/39 [00:00<00:00, 57.68it/s]\n"
     ]
    },
    {
     "name": "stdout",
     "output_type": "stream",
     "text": [
      "Loaded 205 samples from 4 classes.\n"
     ]
    },
    {
     "name": "stderr",
     "output_type": "stream",
     "text": [
      "Processing 경보음: 100%|██████████| 13/13 [00:00<00:00, 44.86it/s]\n",
      "Processing 비명: 100%|██████████| 30/30 [00:00<00:00, 58.25it/s]\n",
      "Processing 일반: 100%|██████████| 131/131 [00:04<00:00, 29.19it/s]\n",
      "Processing 충격깨짐소리: 100%|██████████| 39/39 [00:00<00:00, 55.00it/s]"
     ]
    },
    {
     "name": "stdout",
     "output_type": "stream",
     "text": [
      "Loaded 205 samples from 4 classes.\n",
      "Class names: ['경보음', '비명', '일반', '충격깨짐소리']\n"
     ]
    },
    {
     "name": "stderr",
     "output_type": "stream",
     "text": [
      "\n"
     ]
    }
   ],
   "source": [
    "### 데이터 로드\n",
    "# training data\n",
    "train_data_dir = './warn_data'\n",
    "X_train, y_train, class_names = load_data(train_data_dir)\n",
    "num_classes = len(class_names)\n",
    "num_mfcc = X_train.shape[1]\n",
    "print(f\"Loaded {len(X_train)} samples from {num_classes} classes.\")\n",
    "\n",
    "# validation data\n",
    "val_data_dir = train_data_dir\n",
    "X_val, y_val, class_names = load_data(val_data_dir)\n",
    "num_classes = len(class_names)\n",
    "num_mfcc = X_val.shape[1]\n",
    "print(f\"Loaded {len(X_val)} samples from {num_classes} classes.\")\n",
    "print(f\"Class names: {class_names}\")\n",
    "\n",
    "# 데이터를 (num_samples, 1, num_mfcc, time_steps) 형태로 변경\n",
    "# X = X.reshape(X.shape[0], 1, num_mfcc, X.shape[2])\n",
    "\n",
    "# 데이터 변환 및 증강\n",
    "use_augmentation = True\n",
    "if use_augmentation:\n",
    "    train_transform = transforms.Compose([\n",
    "        transforms.ToTensor(),\n",
    "        AddGaussianNoise(0., 0.05)\n",
    "    ])\n",
    "else:\n",
    "    train_transform = transforms.Compose([\n",
    "        transforms.ToTensor()\n",
    "    ])\n",
    "    \n",
    "val_transform = transforms.Compose([\n",
    "    transforms.ToTensor()\n",
    "])\n",
    "\n",
    "train_dataset = MFCCDataset(X_train, y_train, transform=train_transform)\n",
    "val_dataset = MFCCDataset(X_val, y_val, transform=val_transform)\n",
    "\n",
    "train_loader = DataLoader(train_dataset, batch_size=16, shuffle=True)\n",
    "val_loader = DataLoader(val_dataset, batch_size=16, shuffle=False)\n",
    "\n",
    "    "
   ]
  },
  {
   "cell_type": "code",
   "execution_count": 5,
   "metadata": {},
   "outputs": [
    {
     "name": "stderr",
     "output_type": "stream",
     "text": [
      "Epoch 1/20: 100%|██████████| 13/13 [00:01<00:00, 10.48it/s]\n"
     ]
    },
    {
     "name": "stdout",
     "output_type": "stream",
     "text": [
      "Epoch 1/20:\n",
      "Train Loss: 1.0302, Train Acc: 0.6293\n",
      "Val Loss: 1.2877, Val Acc: 0.6390\n"
     ]
    },
    {
     "name": "stderr",
     "output_type": "stream",
     "text": [
      "Epoch 2/20: 100%|██████████| 13/13 [00:00<00:00, 19.80it/s]\n"
     ]
    },
    {
     "name": "stdout",
     "output_type": "stream",
     "text": [
      "Epoch 2/20:\n",
      "Train Loss: 0.6991, Train Acc: 0.7317\n",
      "Val Loss: 1.3359, Val Acc: 0.6390\n"
     ]
    },
    {
     "name": "stderr",
     "output_type": "stream",
     "text": [
      "Epoch 3/20: 100%|██████████| 13/13 [00:00<00:00, 19.51it/s]\n"
     ]
    },
    {
     "name": "stdout",
     "output_type": "stream",
     "text": [
      "Epoch 3/20:\n",
      "Train Loss: 0.5556, Train Acc: 0.8049\n",
      "Val Loss: 1.5916, Val Acc: 0.0634\n"
     ]
    },
    {
     "name": "stderr",
     "output_type": "stream",
     "text": [
      "Epoch 4/20: 100%|██████████| 13/13 [00:00<00:00, 19.76it/s]\n"
     ]
    },
    {
     "name": "stdout",
     "output_type": "stream",
     "text": [
      "Epoch 4/20:\n",
      "Train Loss: 0.3910, Train Acc: 0.8683\n",
      "Val Loss: 1.5121, Val Acc: 0.6390\n"
     ]
    },
    {
     "name": "stderr",
     "output_type": "stream",
     "text": [
      "Epoch 5/20: 100%|██████████| 13/13 [00:00<00:00, 21.36it/s]\n"
     ]
    },
    {
     "name": "stdout",
     "output_type": "stream",
     "text": [
      "Epoch 5/20:\n",
      "Train Loss: 0.3030, Train Acc: 0.8976\n",
      "Val Loss: 1.6579, Val Acc: 0.1659\n"
     ]
    },
    {
     "name": "stderr",
     "output_type": "stream",
     "text": [
      "Epoch 6/20: 100%|██████████| 13/13 [00:00<00:00, 19.76it/s]\n"
     ]
    },
    {
     "name": "stdout",
     "output_type": "stream",
     "text": [
      "Epoch 6/20:\n",
      "Train Loss: 0.1768, Train Acc: 0.9317\n",
      "Val Loss: 0.3170, Val Acc: 0.8878\n"
     ]
    },
    {
     "name": "stderr",
     "output_type": "stream",
     "text": [
      "Epoch 7/20: 100%|██████████| 13/13 [00:00<00:00, 20.67it/s]\n"
     ]
    },
    {
     "name": "stdout",
     "output_type": "stream",
     "text": [
      "Epoch 7/20:\n",
      "Train Loss: 0.1598, Train Acc: 0.9561\n",
      "Val Loss: 0.0628, Val Acc: 0.9854\n"
     ]
    },
    {
     "name": "stderr",
     "output_type": "stream",
     "text": [
      "Epoch 8/20: 100%|██████████| 13/13 [00:00<00:00, 19.78it/s]\n"
     ]
    },
    {
     "name": "stdout",
     "output_type": "stream",
     "text": [
      "Epoch 8/20:\n",
      "Train Loss: 0.1367, Train Acc: 0.9610\n",
      "Val Loss: 0.0747, Val Acc: 0.9756\n"
     ]
    },
    {
     "name": "stderr",
     "output_type": "stream",
     "text": [
      "Epoch 9/20: 100%|██████████| 13/13 [00:00<00:00, 21.99it/s]\n"
     ]
    },
    {
     "name": "stdout",
     "output_type": "stream",
     "text": [
      "Epoch 9/20:\n",
      "Train Loss: 0.1467, Train Acc: 0.9463\n",
      "Val Loss: 0.0939, Val Acc: 0.9610\n"
     ]
    },
    {
     "name": "stderr",
     "output_type": "stream",
     "text": [
      "Epoch 10/20: 100%|██████████| 13/13 [00:00<00:00, 20.51it/s]\n"
     ]
    },
    {
     "name": "stdout",
     "output_type": "stream",
     "text": [
      "Epoch 10/20:\n",
      "Train Loss: 0.1541, Train Acc: 0.9512\n",
      "Val Loss: 0.0422, Val Acc: 0.9902\n"
     ]
    },
    {
     "name": "stderr",
     "output_type": "stream",
     "text": [
      "Epoch 11/20: 100%|██████████| 13/13 [00:00<00:00, 20.57it/s]\n"
     ]
    },
    {
     "name": "stdout",
     "output_type": "stream",
     "text": [
      "Epoch 11/20:\n",
      "Train Loss: 0.1379, Train Acc: 0.9463\n",
      "Val Loss: 0.0329, Val Acc: 0.9902\n"
     ]
    },
    {
     "name": "stderr",
     "output_type": "stream",
     "text": [
      "Epoch 12/20: 100%|██████████| 13/13 [00:00<00:00, 19.71it/s]\n"
     ]
    },
    {
     "name": "stdout",
     "output_type": "stream",
     "text": [
      "Epoch 12/20:\n",
      "Train Loss: 0.1556, Train Acc: 0.9512\n",
      "Val Loss: 0.0319, Val Acc: 0.9951\n"
     ]
    },
    {
     "name": "stderr",
     "output_type": "stream",
     "text": [
      "Epoch 13/20: 100%|██████████| 13/13 [00:00<00:00, 20.59it/s]\n"
     ]
    },
    {
     "name": "stdout",
     "output_type": "stream",
     "text": [
      "Epoch 13/20:\n",
      "Train Loss: 0.1655, Train Acc: 0.9415\n",
      "Val Loss: 0.0642, Val Acc: 0.9805\n"
     ]
    },
    {
     "name": "stderr",
     "output_type": "stream",
     "text": [
      "Epoch 14/20: 100%|██████████| 13/13 [00:00<00:00, 19.83it/s]\n"
     ]
    },
    {
     "name": "stdout",
     "output_type": "stream",
     "text": [
      "Epoch 14/20:\n",
      "Train Loss: 0.1552, Train Acc: 0.9366\n",
      "Val Loss: 0.0520, Val Acc: 0.9902\n"
     ]
    },
    {
     "name": "stderr",
     "output_type": "stream",
     "text": [
      "Epoch 15/20: 100%|██████████| 13/13 [00:00<00:00, 21.66it/s]\n"
     ]
    },
    {
     "name": "stdout",
     "output_type": "stream",
     "text": [
      "Epoch 15/20:\n",
      "Train Loss: 0.2137, Train Acc: 0.9317\n",
      "Val Loss: 0.0543, Val Acc: 0.9805\n"
     ]
    },
    {
     "name": "stderr",
     "output_type": "stream",
     "text": [
      "Epoch 16/20: 100%|██████████| 13/13 [00:00<00:00, 20.25it/s]\n"
     ]
    },
    {
     "name": "stdout",
     "output_type": "stream",
     "text": [
      "Epoch 16/20:\n",
      "Train Loss: 0.0958, Train Acc: 0.9659\n",
      "Val Loss: 0.0197, Val Acc: 0.9951\n"
     ]
    },
    {
     "name": "stderr",
     "output_type": "stream",
     "text": [
      "Epoch 17/20: 100%|██████████| 13/13 [00:00<00:00, 19.15it/s]\n"
     ]
    },
    {
     "name": "stdout",
     "output_type": "stream",
     "text": [
      "Epoch 17/20:\n",
      "Train Loss: 0.0579, Train Acc: 0.9805\n",
      "Val Loss: 0.0249, Val Acc: 0.9902\n"
     ]
    },
    {
     "name": "stderr",
     "output_type": "stream",
     "text": [
      "Epoch 18/20: 100%|██████████| 13/13 [00:00<00:00, 19.89it/s]\n"
     ]
    },
    {
     "name": "stdout",
     "output_type": "stream",
     "text": [
      "Epoch 18/20:\n",
      "Train Loss: 0.1584, Train Acc: 0.9512\n",
      "Val Loss: 0.0424, Val Acc: 0.9902\n"
     ]
    },
    {
     "name": "stderr",
     "output_type": "stream",
     "text": [
      "Epoch 19/20: 100%|██████████| 13/13 [00:00<00:00, 20.38it/s]\n"
     ]
    },
    {
     "name": "stdout",
     "output_type": "stream",
     "text": [
      "Epoch 19/20:\n",
      "Train Loss: 0.1228, Train Acc: 0.9659\n",
      "Val Loss: 0.0243, Val Acc: 0.9902\n"
     ]
    },
    {
     "name": "stderr",
     "output_type": "stream",
     "text": [
      "Epoch 20/20: 100%|██████████| 13/13 [00:00<00:00, 19.33it/s]\n"
     ]
    },
    {
     "name": "stdout",
     "output_type": "stream",
     "text": [
      "Epoch 20/20:\n",
      "Train Loss: 0.1005, Train Acc: 0.9854\n",
      "Val Loss: 0.0290, Val Acc: 0.9951\n",
      "Training completed.\n"
     ]
    }
   ],
   "source": [
    "## 훈련 코드\n",
    "# 모델, 손실 함수, 옵티마이저 초기화\n",
    "model = mobilenet_v3_mfcc(num_classes=num_classes)\n",
    "criterion = nn.CrossEntropyLoss()\n",
    "optimizer = optim.Adam(model.parameters(), lr=0.001)\n",
    "\n",
    "# 학습률 스케줄러\n",
    "scheduler = optim.lr_scheduler.StepLR(optimizer, step_size=7, gamma=0.1)\n",
    "\n",
    "# 모델 훈련\n",
    "device = 'cuda:1' if torch.cuda.is_available() else 'cpu'\n",
    "train_model(model, train_loader, val_loader, criterion, optimizer, num_epochs=20, device=device)"
   ]
  },
  {
   "cell_type": "code",
   "execution_count": 6,
   "metadata": {},
   "outputs": [
    {
     "data": {
      "image/png": "[encoded data removed]",
      "text/plain": [
       "<Figure size 1000x800 with 2 Axes>"
      ]
     },
     "metadata": {},
     "output_type": "display_data"
    }
   ],
   "source": [
    "import numpy as np\n",
    "from sklearn.metrics import confusion_matrix\n",
    "import seaborn as sns\n",
    "import matplotlib.pyplot as plt\n",
    "\n",
    "# seaborn 한글 폰트 설정\n",
    "sns.set_theme(font='NanumGothic')\n",
    "\n",
    "# 모델 로드\n",
    "model = mobilenet_v3_mfcc(num_classes=num_classes)\n",
    "model.load_state_dict(torch.load('weights/test_mobilenetV3_mfcc_model.pth'))\n",
    "\n",
    "model = model.to(\"cuda:1\")\n",
    "model.eval()\n",
    "\n",
    "# 검증 데이터셋 예측\n",
    "y_pred = []\n",
    "y_true = []\n",
    "with torch.no_grad():\n",
    "    for inputs, labels in val_loader:\n",
    "        inputs, labels = inputs.to(device), labels.to(device)\n",
    "        outputs = model(inputs)\n",
    "        _, predicted = torch.max(outputs.data, 1)\n",
    "        y_pred.extend(predicted.cpu().numpy())\n",
    "        y_true.extend(labels.cpu().numpy())\n",
    "\n",
    "# 혼동 행렬 계산\n",
    "cm = confusion_matrix(y_true, y_pred)\n",
    "\n",
    "# 시각화\n",
    "plt.figure(figsize=(10, 8))\n",
    "sns.heatmap(cm, annot=True, fmt='d', cmap='Blues', xticklabels=class_names, yticklabels=class_names)\n",
    "plt.title('Confusion Matrix')\n",
    "plt.xlabel('Predicted Class')\n",
    "plt.ylabel('True Class')\n",
    "plt.show()"
   ]
  },
  {
   "cell_type": "code",
   "execution_count": 7,
   "metadata": {},
   "outputs": [
    {
     "name": "stdout",
     "output_type": "stream",
     "text": [
      "F1 Score: 0.9951\n"
     ]
    }
   ],
   "source": [
    "from sklearn.metrics import f1_score\n",
    "\n",
    "# F1 스코어 계산\n",
    "f1 = f1_score(y_true, y_pred, average='macro')\n",
    "print(f'F1 Score: {f1:.4f}')"
   ]
  }
 ],
 "metadata": {
  "kernelspec": {
   "display_name": "pytorchaudio",
   "language": "python",
   "name": "python3"
  },
  "language_info": {
   "codemirror_mode": {
    "name": "ipython",
    "version": 3
   },
   "file_extension": ".py",
   "mimetype": "text/x-python",
   "name": "python",
   "nbconvert_exporter": "python",
   "pygments_lexer": "ipython3",
   "version": "3.10.10"
  }
 },
 "nbformat": 4,
 "nbformat_minor": 2
}
